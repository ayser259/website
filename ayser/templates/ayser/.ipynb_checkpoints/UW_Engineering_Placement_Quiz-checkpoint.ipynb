{
 "cells": [
  {
   "cell_type": "markdown",
   "metadata": {},
   "source": [
    "# The University of Waterloo's Engineering Placement Quiz"
   ]
  },
  {
   "cell_type": "markdown",
   "metadata": {},
   "source": [
    "Choosing between the fifteen undergraduate Engineering programs offered at the University of Waterloo (UW) can be an intimidating task for  a high school student. With so many options to choose from, it is easy for a high school student to become overwhelmed with information. The Faculty of Engineering - Marketing and Recruitment team previously partnered with a group of Management Engineering students in an attempt to make the application process easier. A quiz was built to help high school students identify the UW Engineering programs that were best suited to their interests.\n",
    "\n",
    "However, the quiz has now become outdated, and several complaints have arisen and been proven about bias existing in the underlying model. The quiz was in dire need for an updated model that focuses on maintaining accuracy and reducing bias. There were several other issues with the existing quiz, such as not being able to\n",
    "\n"
   ]
  },
  {
   "cell_type": "markdown",
   "metadata": {},
   "source": [
    "The solution uses python as the primary programming language. With python, the model building aspect is relatively easy and leverages packages and modules that are standard for data scientists. Maintaining consistency between the data science and software development aspects of the project remained a high priority. This gave further weight for the choice of using python as the language of choice. \n",
    "The Django framework was leveraged to develop the website. This was done due to the simplicity of the framework and the thorough documentation available when using this particular package. Heroku was used to deploy the solution. Locally created websites can be deployed using Heroku with relative ease and a large amount of supporting documentation is readily available. From a security perspective, Django and Heroku have several cybersecurity features integrated into their design and implementation, which made them safe choices in creating a public website. In order to further ease the burden of any cybersecurity concerns, no personally identifiable or personal information is collected through the website.\n",
    "The website leverages a Postgres database. Postgres was selected because it is an object-relational database and thus has features, such as the inheritance of tables and overloading functions, integrated into its design and implementation. Given that the quiz will experience a large amount of traffic during peak usage periods, having a database that could handle concurrency was of primary importance. This lent further preference to selecting Postgres, as it handles concurrency better than MySQL. \n",
    "A unified modeling language (UML) diagram has been created to demonstrate the database design, and can be seen below\n",
    "\n",
    "\n",
    "INSERT UML DIAGRAM HERE\n",
    "\n",
    "It is also important to note that the database is not interconnected. In order to protect the anonymity of all users involved, aspects related to the usage of the website are not connected. Doing so limits the impact of a potential cyber attack.\n",
    "The tables on the left of Appendix X are related to managing user permissions, access and edit rights for the admin site. As mentioned earlier, an admin site from Django has been leveraged and severely modified in order to provide the clients with the ability to edit and update information on the site, and to retrieve results for the purpose of analytics.\n",
    "To use the results for analytics, the quiz responses are logged every time the quiz is taken. Each time the quiz is taken, a timestamp is generated in order to better understand the usage of the site. These results are not tied to any identifiable information from the user and are contained in an isolated table. \n",
    "Users who wish to be reached out to by the clients have the option to leave their email address. Email addresses are not currently stored for the purpose of the project, however, the ability to do so has been provided. The code on the front end has simply been commented out for the time being.\n",
    "The interconnected tables in the middle of the UML represent the aspects of the information that can either be edited or viewed by the users of the website. These tables are used to generate dynamic recommendations that can be updated, aligning with the desire to maintain a significantly modular design.\n",
    "\n"
   ]
  }
 ],
 "metadata": {
  "kernelspec": {
   "display_name": "Python 3",
   "language": "python",
   "name": "python3"
  },
  "language_info": {
   "codemirror_mode": {
    "name": "ipython",
    "version": 3
   },
   "file_extension": ".py",
   "mimetype": "text/x-python",
   "name": "python",
   "nbconvert_exporter": "python",
   "pygments_lexer": "ipython3",
   "version": "3.7.6"
  }
 },
 "nbformat": 4,
 "nbformat_minor": 2
}
