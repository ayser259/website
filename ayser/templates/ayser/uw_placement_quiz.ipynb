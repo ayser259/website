{
 "cells": [
  {
   "cell_type": "markdown",
   "metadata": {},
   "source": [
    "# The University of Waterloo's Engineering Placement Quiz"
   ]
  },
  {
   "cell_type": "markdown",
   "metadata": {},
   "source": [
    "__Check out the MVP of the [UW Engineering Placement Quiz!](https://waterlooengineeringquiz.herokuapp.com/)__\n",
    "\n",
    "## Context:\n",
    "\n",
    "The University of Waterloo has fifteen direct entry engineering programs within its engineering faculty. Applicants need to decide which engineering programs to apply to before during their application to the University. Students' are only given acceptances for a given program. Transferring from one program to another is difficult can often involves students needing to add an additionaly year to their University career in order to graduate. Selecting a program to enter is one of the most significant decisions that an undergraduate engineering student at the University of Waterloo has to make.\n",
    "\n",
    "For reference, these are the all of the engineering programs available at the Faculty of Engineering at UW:\n",
    "\n",
    "<table>\n",
    " <tr>\n",
    " <td>Architectural Engineering </td>\n",
    " <td>Architecture </td>\n",
    " <td>Biomedical Engineering </td>\n",
    " </tr>\n",
    " <tr>\n",
    " <td>Chemical Engineering </td>\n",
    " <td>Civil Engineering </td>\n",
    " <td>Computer Engineering </td>\n",
    " </tr>\n",
    " <tr>\n",
    " <td>Electrical Engineering </td>\n",
    " <td>Environmental Engineering </td>\n",
    " <td>Geological Engineering </td>\n",
    " </tr>\n",
    " <tr>\n",
    " <td>Management Engineering </td>\n",
    " <td>Mechanical Engineering </td>\n",
    " <td>Mechatronics Engineering </td>\n",
    " </tr>\n",
    " <tr>\n",
    " <td>Nanotechnology Engineering </td>\n",
    " <td>Software Engineering </td>\n",
    " <td>Systems-Design Engineering </td>\n",
    "</table>\n",
    "\n",
    "\n",
    "A few years ago, in order to support students in making a decision, a group of University of Waterloo students devised a quiz to help discover relevant programs. The Engineering Faculty's Recruitment and Marketing teams had been given ownership of this quiz in order to maximize the benefits for applicants attempting to make a decision. \n",
    "\n",
    "However, it has been a few years since the quiz had been created. Programs have been added and programs have also evolved during this time period. Furthermore, the quiz was only ever scored for accuracy, which is not necessarily the best way to score a ranking model. Qualitative data indicates that the model powering the quiz had several unintentional biases that had not been quantified or explored. \n",
    "\n",
    "This seemed like an opportune time to revamp the quiz with a more sophisticated model built with both program and gender bias in mind. Given this work was being undertaken, other than just created a machine learning model, the team of which I was a part of also decided to build a robust and complete solution that gives applicants insight into their results and allows our clients -  The University of Waterloo's Engineering Recruitment and Marketing team - the ability to gain analytics of which programs are being outputted, how the website is being used, and the ability to edit information on the site.\n",
    "\n",
    "## Gameplan:\n",
    "\n",
    "Work for this project was carried out over a year and followed the following stages:\n",
    "\n",
    "- Stage 0: Research & Requirements Gathering\n",
    "- Stage 1: Data Collection & Analysis\n",
    "- Stage 2: Building & Selecting a Model\n",
    "- Stage 3: Building the Interactive Quiz\n",
    "- Stage 4: Dealing with Client Access\n"
   ]
  },
  {
   "cell_type": "markdown",
   "metadata": {},
   "source": [
    "## Stage 0: Research & Requirements Gathering\n"
   ]
  },
  {
   "cell_type": "markdown",
   "metadata": {},
   "source": [
    "## Stage 1: Data Collection & Analysis\n"
   ]
  },
  {
   "cell_type": "markdown",
   "metadata": {},
   "source": [
    "## Stage 2: Building & Selecting a Model\n"
   ]
  },
  {
   "cell_type": "markdown",
   "metadata": {},
   "source": [
    "## Stage 3: Building the Interactive Quiz\n"
   ]
  },
  {
   "cell_type": "markdown",
   "metadata": {},
   "source": [
    "## Stage 4: Dealing with Client Access"
   ]
  }
 ],
 "metadata": {
  "kernelspec": {
   "display_name": "Python 3",
   "language": "python",
   "name": "python3"
  },
  "language_info": {
   "codemirror_mode": {
    "name": "ipython",
    "version": 3
   },
   "file_extension": ".py",
   "mimetype": "text/x-python",
   "name": "python",
   "nbconvert_exporter": "python",
   "pygments_lexer": "ipython3",
   "version": "3.7.6"
  }
 },
 "nbformat": 4,
 "nbformat_minor": 2
}
