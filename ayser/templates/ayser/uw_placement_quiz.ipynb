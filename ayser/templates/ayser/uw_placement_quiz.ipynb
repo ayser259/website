{
 "cells": [
  {
   "cell_type": "markdown",
   "metadata": {},
   "source": [
    "# The University of Waterloo's Engineering Placement Quiz"
   ]
  },
  {
   "cell_type": "markdown",
   "metadata": {},
   "source": [
    "__Check out the MVP of the [UW Engineering Placement Quiz!](https://waterlooengineeringquiz.herokuapp.com/)__\n",
    "\n",
    "\n",
    "<img src=\"images/uw_placement_quiz_overview.png\">\n",
    "\n",
    "\n",
    "## Context:\n",
    "\n",
    "The University of Waterloo has fifteen direct entry engineering programs within its engineering faculty. Applicants need to decide which engineering programs to apply to before during their application to the University. Students' are only given acceptances for a given program. Transferring from one program to another is difficult can often involves students needing to add an additionaly year to their University career in order to graduate. Selecting a program to enter is one of the most significant decisions that an undergraduate engineering student at the University of Waterloo has to make.\n",
    "\n",
    "For reference, these are the all of the engineering programs available at the Faculty of Engineering at UW:\n",
    "\n",
    "<table>\n",
    " <tr>\n",
    " <td>Architectural Engineering </td>\n",
    " <td>Architecture </td>\n",
    " <td>Biomedical Engineering </td>\n",
    " </tr>\n",
    " <tr>\n",
    " <td>Chemical Engineering </td>\n",
    " <td>Civil Engineering </td>\n",
    " <td>Computer Engineering </td>\n",
    " </tr>\n",
    " <tr>\n",
    " <td>Electrical Engineering </td>\n",
    " <td>Environmental Engineering </td>\n",
    " <td>Geological Engineering </td>\n",
    " </tr>\n",
    " <tr>\n",
    " <td>Management Engineering </td>\n",
    " <td>Mechanical Engineering </td>\n",
    " <td>Mechatronics Engineering </td>\n",
    " </tr>\n",
    " <tr>\n",
    " <td>Nanotechnology Engineering </td>\n",
    " <td>Software Engineering </td>\n",
    " <td>Systems-Design Engineering </td>\n",
    "</table>\n",
    "\n",
    "\n",
    "A few years ago, in order to support students in making a decision, a group of University of Waterloo students devised a quiz to help discover relevant programs. The Engineering Faculty's Recruitment and Marketing teams had been given ownership of this quiz in order to maximize the benefits for applicants attempting to make a decision. \n",
    "\n",
    "However, it has been a few years since the quiz had been created. Programs have been added and programs have also evolved during this time period. Furthermore, the quiz was only ever scored for accuracy, which is not necessarily the best way to score a ranking model. Qualitative data indicates that the model powering the quiz had several unintentional biases that had not been quantified or explored. \n",
    "\n",
    "This seemed like an opportune time to revamp the quiz with a more sophisticated model built with both program and gender bias in mind. Given this work was being undertaken, other than just created a machine learning model, the team of which I was a part of also decided to build a robust and complete solution that gives applicants insight into their results and allows our clients -  The University of Waterloo's Engineering Recruitment and Marketing team - the ability to gain analytics of which programs are being outputted, how the website is being used, and the ability to edit information on the site.\n",
    "\n",
    "## Gameplan:\n",
    "\n",
    "Work for this project was carried out over a year and followed the following stages:\n",
    "\n",
    "- Stage 0: Research & Requirements Gathering\n",
    "- Stage 1: Data Collection & Analysis\n",
    "- Stage 2: Building & Selecting a Model\n",
    "- Stage 3: Building the Interactive Quiz"
   ]
  },
  {
   "cell_type": "markdown",
   "metadata": {},
   "source": [
    "## Stage 0: Research & Requirements Gathering\n",
    "\n",
    "In order to create a decision support tool that encompassed an accurate representation of all fifteen Engineering programs, interviews were conducted with students, professors, and other recommended personnel (i.e. program coordinators). \n",
    "\n",
    "3.1.1. Professor Interviews. Professors were interviewed to collect valuable insights about what they liked, disliked, and would like to see from a new decision support tool. Most of the feedback received was related to the generic nature of the questions in the quiz. Additionally, they provided details about similar programs and things that made their programs unique. It was valuable to learn their thoughts on what they think are the types of students that are typically successful in their programs. The professors also shared information regarding the projects that their students work on, and pointed out the value in exploring the different fourth-year design projects that have been completed throughout the years. \n",
    "\n",
    "3.1.2. Student Interviews. Students were interviewed to collect information regarding what they wish they had known before joining their programs. It was hypothesized that this information would help raise any misconceptions, and would allow their consideration when redesigning the new decision support tool. For example, one student learned how similar Mechanical and Chemical Engineering were after being in the program for a couple of years. This was something they wished they had known before joining. It also proved beneficial to get information from students about the types of students that enjoy their program, as they all work so closely together. As the new decision tool will be used to help prospective students learn more about their programs, it was necessary to collect data relating to what actual students have experienced during their years in Engineering.\n",
    "\n",
    "3.1.3. Affinity Diagramming. Having collected such a large amount of data, a need existed to organize the findings and cluster based on similarities. Using the affinity diagramming method proved to be a very effective way to organize the raw data. This exercise led to a deeper understanding of the unique characteristics of each program which was used to generate questions for the quiz. \n",
    "\n",
    "The following diagram shows the end-result after several iterations of affinity diagramming.\n",
    "\n",
    "\n",
    "<img src=\"images/uw_placement_quiz_affinity_diagram.png\">"
   ]
  },
  {
   "cell_type": "markdown",
   "metadata": {},
   "source": [
    "## Stage 1: Data Collection & Analysis\n",
    "\n",
    "Information gleaned from the previous stage informed the creation of potential questions that could be asked in the quiz. In order to create model using this information the team created a survey that was sent out to UW undergraduate students and alumni.\n",
    "\n",
    "In total, twenty-two questions were asked.During the data collection phase totalling 1.5 months, approximately 1650 responses from current students and alumni, from all 15 UWaterloo Engineering programs, were collected. Once the data was cleaned (all “No” responses to “are you happy with what your program provided you with?” question, were removed), 1300 rows of usable data remained.\n",
    "\n",
    "Some of the several observations made from the data collected include:\n",
    "- Question asked about gender, strictly for data collection purposes in an effort to remove gender biases\n",
    "- With cleaned data, fairly even split between males and females - 55% of respondents identifying as male, 45% identifying as female\n",
    "- Questions relating to industry students see themselves in, in the future, showed obvious trends - For example, 83.12% of Architecture students responded with ‘designing buildings’ while 70.59% of Geological Engineering students responded with ‘improving the way we use the world’s resources’\n",
    "- Based on these values, it appears to be clear that if a student responds with either of those answers, they should have a greater weighting on either Architecture or Geological Engineering as their outputs.\n",
    "\n",
    "Analyzing the data showed that there were clearly indicative questions for different programs, as well as inconclusive questions, which did not communicate any clear trends. Questions that appear to be inconclusive related to how students felt about group work and how they feel about working with expensive equipment.\n"
   ]
  },
  {
   "cell_type": "markdown",
   "metadata": {},
   "source": [
    "## Stage 2: Building & Selecting a Model\n",
    "\n",
    "For an indepth walkthrough of the model building, scoring and evaluation process check out the [University of Waterloo Engineering Program Classifier](https://ayser.herokuapp.com/uw_engineering_classifier)"
   ]
  },
  {
   "cell_type": "markdown",
   "metadata": {},
   "source": [
    "## Stage 3: Building the Interactive Quiz\n",
    "\n",
    "\n",
    "__Conceptual Front End Designs Considered__: As mentioned earlier, previous efforts to address the problem took the form of a quiz followed by a list of program recommendations. After brainstorming designs and weighing the pros and cons, it was determined that keeping the solution in the form of a quiz was the most optimal. This was because quizzes are easy and intuitive to use and the client was familiar with marketing a quiz as a tool for students to use. Additional brainstormed solutions included a game or a search engine, but were eliminated due to hosting constraints and viability. \n",
    "\n",
    "__Description of Final Front End Design__ : Once an understanding of the main user and their goals were established, a frontend solution was iteratively designed and implemented. \n",
    "\n",
    "This Engineering Placement Quiz focuses on delivering a personalized experience while improving the users research and discovery process. This is outlined below. \n",
    "\n",
    "\n",
    "<img src=\"images/uw_engineering_placement_quiz_user_flow.png\">\n",
    "\n",
    "### Back-End Design:\n",
    "The solution uses python as the primary programming language. With python, the model building aspect is relatively easy and leverages packages and modules that are standard for data scientists. Maintaining consistency between the data science and software development aspects of the project remained a high priority. This gave further weight for the choice of using python as the language of choice. \n",
    "\n",
    "The Django framework was leveraged to develop the website. This was done due to the simplicity of the framework and the thorough documentation available when using this particular package. Heroku was used to deploy the solution. Locally created websites can be deployed using Heroku with relative ease and a large amount of supporting documentation is readily available. From a security perspective, Django and Heroku have several cybersecurity features integrated into their design and implementation, which made them safe choices in creating a public website. In order to further ease the burden of any cybersecurity concerns, no personally identifiable or personal information is collected through the website.\n",
    "\n",
    "The website leverages a Postgres database. Postgres was selected because it is an object-relational database and thus has features, such as the inheritance of tables and overloading functions, integrated into its design and implementation. Given that the quiz will experience a large amount of traffic during peak usage periods, having a database that could handle concurrency was of primary importance. This lent further preference to selecting Postgres, as it handles concurrency better than MySQL. \n",
    "\n",
    "A unified modeling language (UML) diagram has been created to demonstrate the database design, and can be seen below\n",
    "\n",
    "\n",
    "<img src=\"images/uw_placement_quiz_uml.png\">\n",
    "\n",
    "It is also important to note that the database is not interconnected. In order to protect the anonymity of all users involved, aspects related to the usage of the website are not connected. Doing so limits the impact of a potential cyber attack.\n",
    "\n",
    "The tables on the left of Appendix X are related to managing user permissions, access and edit rights for the admin site. As mentioned earlier, an admin site from Django has been leveraged and severely modified in order to provide the clients with the ability to edit and update information on the site, and to retrieve results for the purpose of analytics.\n",
    "\n",
    "To use the results for analytics, the quiz responses are logged every time the quiz is taken. Each time the quiz is taken, a timestamp is generated in order to better understand the usage of the site. These results are not tied to any identifiable information from the user and are contained in an isolated table. \n",
    "\n",
    "Users who wish to be reached out to by the clients have the option to leave their email address. Email addresses are not currently stored for the purpose of the project, however, the ability to do so has been provided. The code on the front end has simply been commented out for the time being.\n",
    "\n",
    "The interconnected tables in the middle of the UML represent the aspects of the information that can either be edited or viewed by the users of the website. These tables are used to generate dynamic recommendations that can be updated, aligning with the desire to maintain a significantly modular design\n"
   ]
  },
  {
   "cell_type": "markdown",
   "metadata": {},
   "source": [
    "### Evaluating the Final Solution:\n",
    "\n",
    "The strengths of the solution lie in its robustness, simplicity and modularity. Each aspect of the design can be swapped out with relative convenience by the clients if they so wish to do so. The frontend components rely on an API to operate. Thus, the frontend can be easily updated, edited, or swapped out for another design. The API can also easily be updated and altered. Content on the website itself can be updated through an interface that is easy to use and comes with a user guide. The backend of the website can be recreated with relative ease using any other technology and swapped into the existing technical design. If clients wish to use alternative deployment or database services, these too can easily be swapped out. These design choices were made to enable maximum flexibility in order to easily maintain the site in the future.\n",
    "\n",
    "The website also uses commonly used technologies and frameworks with a vast amount of online resources available to follow up with and leverage for any changes.\n",
    "\n",
    "Weaknesses lie in the lack of an automated deployment flow for a selected model. Currently swapping out a model is an arduous process due to differences in the implementation of the C-Python version of python on Heroku as opposed to the I-Python version of python used to develop the models locally. This difference of implementation seems to only affect the way Python’s data science packages operate. However, the weakness is a minor one as close to five thousand models have been tested and the best possible model has been selected. The hope is that this model would not have to be swapped out until a point when new programs have been added or older programs have been removed.\n",
    "\n",
    "Risks have been mitigated wherever they were thought to be significant. However, there still lies the risk of a changing landscape where programs can be added or removed from the Faculty of Engineering at the University of Waterloo. In this scenario, programs will still be recommended. These responses would have to be manually filtered out on the frontend design by updating the codebase.\n"
   ]
  },
  {
   "cell_type": "markdown",
   "metadata": {},
   "source": [
    "### Impact:\n",
    "\n",
    "The Program Compatibility Tool will significantly impact prospective students by streamlining their research and discovery process. Additionally, through the implementation of a modular design, the client is now empowered to take control of the quiz. Content can be updated, descriptions can be changed and results can be analyzed with tremendous ease. Our client, Ryan Pyear, a Marketing and Undergraduate Recruitment Specialist for the Faculty of Engineering, describes the impact the quiz will have on prospective students by saying, \"As a direct entry Engineering faculty, it is imperative to have a tool for prospective students to start their discovery process in finding the right program.” \n"
   ]
  }
 ],
 "metadata": {
  "kernelspec": {
   "display_name": "Python 3",
   "language": "python",
   "name": "python3"
  },
  "language_info": {
   "codemirror_mode": {
    "name": "ipython",
    "version": 3
   },
   "file_extension": ".py",
   "mimetype": "text/x-python",
   "name": "python",
   "nbconvert_exporter": "python",
   "pygments_lexer": "ipython3",
   "version": "3.7.6"
  }
 },
 "nbformat": 4,
 "nbformat_minor": 2
}
